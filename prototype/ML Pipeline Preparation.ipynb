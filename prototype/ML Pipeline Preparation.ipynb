{
 "cells": [
  {
   "cell_type": "markdown",
   "metadata": {},
   "source": [
    "# ML Pipeline Preparation\n",
    "Follow the instructions below to help you create your ML pipeline.\n",
    "### 1. Import libraries and load data from database.\n",
    "- Import Python libraries\n",
    "- Load dataset from database with [`read_sql_table`](https://pandas.pydata.org/pandas-docs/stable/generated/pandas.read_sql_table.html)\n",
    "- Define feature and target variables X and Y"
   ]
  },
  {
   "cell_type": "code",
   "execution_count": 2,
   "metadata": {},
   "outputs": [
    {
     "name": "stderr",
     "output_type": "stream",
     "text": [
      "[nltk_data] Downloading package punkt to\n",
      "[nltk_data]     C:\\Users\\Peerapon\\AppData\\Roaming\\nltk_data...\n",
      "[nltk_data]   Package punkt is already up-to-date!\n",
      "[nltk_data] Downloading package wordnet to\n",
      "[nltk_data]     C:\\Users\\Peerapon\\AppData\\Roaming\\nltk_data...\n",
      "[nltk_data]   Package wordnet is already up-to-date!\n"
     ]
    }
   ],
   "source": [
    "import nltk\n",
    "nltk.download(['punkt', 'wordnet'])\n",
    "\n",
    "# import libraries\n",
    "import pandas as pd\n",
    "import numpy as np\n",
    "from sqlalchemy import create_engine\n",
    "from nltk.stem.wordnet import WordNetLemmatizer\n",
    "from nltk.tokenize import word_tokenize\n",
    "from sklearn.model_selection import train_test_split, GridSearchCV\n",
    "from sklearn.ensemble import RandomForestClassifier\n",
    "from sklearn.neural_network import MLPClassifier\n",
    "from sklearn.metrics import confusion_matrix, classification_report, roc_curve, auc\n",
    "from sklearn.pipeline import Pipeline, FeatureUnion\n",
    "from sklearn.feature_extraction.text import CountVectorizer, TfidfTransformer\n",
    "from sklearn.multioutput import MultiOutputClassifier\n",
    "import pickle\n",
    "from joblib import dump, load\n",
    "\n",
    "import warnings; warnings.simplefilter('ignore')"
   ]
  },
  {
   "cell_type": "code",
   "execution_count": 35,
   "metadata": {
    "scrolled": true
   },
   "outputs": [
    {
     "data": {
      "text/html": [
       "<div>\n",
       "<style scoped>\n",
       "    .dataframe tbody tr th:only-of-type {\n",
       "        vertical-align: middle;\n",
       "    }\n",
       "\n",
       "    .dataframe tbody tr th {\n",
       "        vertical-align: top;\n",
       "    }\n",
       "\n",
       "    .dataframe thead th {\n",
       "        text-align: right;\n",
       "    }\n",
       "</style>\n",
       "<table border=\"1\" class=\"dataframe\">\n",
       "  <thead>\n",
       "    <tr style=\"text-align: right;\">\n",
       "      <th></th>\n",
       "      <th>related</th>\n",
       "      <th>request</th>\n",
       "      <th>offer</th>\n",
       "      <th>aid_related</th>\n",
       "      <th>medical_help</th>\n",
       "      <th>medical_products</th>\n",
       "      <th>search_and_rescue</th>\n",
       "      <th>security</th>\n",
       "      <th>military</th>\n",
       "      <th>child_alone</th>\n",
       "      <th>...</th>\n",
       "      <th>aid_centers</th>\n",
       "      <th>other_infrastructure</th>\n",
       "      <th>weather_related</th>\n",
       "      <th>floods</th>\n",
       "      <th>storm</th>\n",
       "      <th>fire</th>\n",
       "      <th>earthquake</th>\n",
       "      <th>cold</th>\n",
       "      <th>other_weather</th>\n",
       "      <th>direct_report</th>\n",
       "    </tr>\n",
       "  </thead>\n",
       "  <tbody>\n",
       "    <tr>\n",
       "      <th>0</th>\n",
       "      <td>1.0</td>\n",
       "      <td>0.0</td>\n",
       "      <td>0.0</td>\n",
       "      <td>0.0</td>\n",
       "      <td>0.0</td>\n",
       "      <td>0.0</td>\n",
       "      <td>0.0</td>\n",
       "      <td>0.0</td>\n",
       "      <td>0.0</td>\n",
       "      <td>0.0</td>\n",
       "      <td>...</td>\n",
       "      <td>0.0</td>\n",
       "      <td>0.0</td>\n",
       "      <td>0.0</td>\n",
       "      <td>0.0</td>\n",
       "      <td>0.0</td>\n",
       "      <td>0.0</td>\n",
       "      <td>0.0</td>\n",
       "      <td>0.0</td>\n",
       "      <td>0.0</td>\n",
       "      <td>0.0</td>\n",
       "    </tr>\n",
       "    <tr>\n",
       "      <th>1</th>\n",
       "      <td>1.0</td>\n",
       "      <td>1.0</td>\n",
       "      <td>0.0</td>\n",
       "      <td>1.0</td>\n",
       "      <td>0.0</td>\n",
       "      <td>0.0</td>\n",
       "      <td>0.0</td>\n",
       "      <td>0.0</td>\n",
       "      <td>0.0</td>\n",
       "      <td>0.0</td>\n",
       "      <td>...</td>\n",
       "      <td>0.0</td>\n",
       "      <td>0.0</td>\n",
       "      <td>0.0</td>\n",
       "      <td>0.0</td>\n",
       "      <td>0.0</td>\n",
       "      <td>0.0</td>\n",
       "      <td>0.0</td>\n",
       "      <td>0.0</td>\n",
       "      <td>0.0</td>\n",
       "      <td>1.0</td>\n",
       "    </tr>\n",
       "    <tr>\n",
       "      <th>2</th>\n",
       "      <td>0.0</td>\n",
       "      <td>0.0</td>\n",
       "      <td>0.0</td>\n",
       "      <td>0.0</td>\n",
       "      <td>0.0</td>\n",
       "      <td>0.0</td>\n",
       "      <td>0.0</td>\n",
       "      <td>0.0</td>\n",
       "      <td>0.0</td>\n",
       "      <td>0.0</td>\n",
       "      <td>...</td>\n",
       "      <td>0.0</td>\n",
       "      <td>0.0</td>\n",
       "      <td>0.0</td>\n",
       "      <td>0.0</td>\n",
       "      <td>0.0</td>\n",
       "      <td>0.0</td>\n",
       "      <td>0.0</td>\n",
       "      <td>0.0</td>\n",
       "      <td>0.0</td>\n",
       "      <td>0.0</td>\n",
       "    </tr>\n",
       "    <tr>\n",
       "      <th>3</th>\n",
       "      <td>1.0</td>\n",
       "      <td>1.0</td>\n",
       "      <td>0.0</td>\n",
       "      <td>1.0</td>\n",
       "      <td>1.0</td>\n",
       "      <td>1.0</td>\n",
       "      <td>0.0</td>\n",
       "      <td>0.0</td>\n",
       "      <td>0.0</td>\n",
       "      <td>0.0</td>\n",
       "      <td>...</td>\n",
       "      <td>0.0</td>\n",
       "      <td>0.0</td>\n",
       "      <td>0.0</td>\n",
       "      <td>0.0</td>\n",
       "      <td>0.0</td>\n",
       "      <td>0.0</td>\n",
       "      <td>0.0</td>\n",
       "      <td>0.0</td>\n",
       "      <td>0.0</td>\n",
       "      <td>1.0</td>\n",
       "    </tr>\n",
       "    <tr>\n",
       "      <th>4</th>\n",
       "      <td>1.0</td>\n",
       "      <td>1.0</td>\n",
       "      <td>0.0</td>\n",
       "      <td>1.0</td>\n",
       "      <td>0.0</td>\n",
       "      <td>0.0</td>\n",
       "      <td>0.0</td>\n",
       "      <td>0.0</td>\n",
       "      <td>0.0</td>\n",
       "      <td>0.0</td>\n",
       "      <td>...</td>\n",
       "      <td>0.0</td>\n",
       "      <td>0.0</td>\n",
       "      <td>0.0</td>\n",
       "      <td>0.0</td>\n",
       "      <td>0.0</td>\n",
       "      <td>0.0</td>\n",
       "      <td>0.0</td>\n",
       "      <td>0.0</td>\n",
       "      <td>0.0</td>\n",
       "      <td>1.0</td>\n",
       "    </tr>\n",
       "  </tbody>\n",
       "</table>\n",
       "<p>5 rows × 36 columns</p>\n",
       "</div>"
      ],
      "text/plain": [
       "   related  request  offer  aid_related  medical_help  medical_products  \\\n",
       "0      1.0      0.0    0.0          0.0           0.0               0.0   \n",
       "1      1.0      1.0    0.0          1.0           0.0               0.0   \n",
       "2      0.0      0.0    0.0          0.0           0.0               0.0   \n",
       "3      1.0      1.0    0.0          1.0           1.0               1.0   \n",
       "4      1.0      1.0    0.0          1.0           0.0               0.0   \n",
       "\n",
       "   search_and_rescue  security  military  child_alone  ...  aid_centers  \\\n",
       "0                0.0       0.0       0.0          0.0  ...          0.0   \n",
       "1                0.0       0.0       0.0          0.0  ...          0.0   \n",
       "2                0.0       0.0       0.0          0.0  ...          0.0   \n",
       "3                0.0       0.0       0.0          0.0  ...          0.0   \n",
       "4                0.0       0.0       0.0          0.0  ...          0.0   \n",
       "\n",
       "   other_infrastructure  weather_related  floods  storm  fire  earthquake  \\\n",
       "0                   0.0              0.0     0.0    0.0   0.0         0.0   \n",
       "1                   0.0              0.0     0.0    0.0   0.0         0.0   \n",
       "2                   0.0              0.0     0.0    0.0   0.0         0.0   \n",
       "3                   0.0              0.0     0.0    0.0   0.0         0.0   \n",
       "4                   0.0              0.0     0.0    0.0   0.0         0.0   \n",
       "\n",
       "   cold  other_weather  direct_report  \n",
       "0   0.0            0.0            0.0  \n",
       "1   0.0            0.0            1.0  \n",
       "2   0.0            0.0            0.0  \n",
       "3   0.0            0.0            1.0  \n",
       "4   0.0            0.0            1.0  \n",
       "\n",
       "[5 rows x 36 columns]"
      ]
     },
     "execution_count": 35,
     "metadata": {},
     "output_type": "execute_result"
    }
   ],
   "source": [
    "# load data from database\n",
    "engine = create_engine('sqlite:///disaster.db')\n",
    "df = pd.read_sql_table('disaster', con=engine)\n",
    "df = df.dropna(how='any')\n",
    "X = df['message']\n",
    "Y = df.drop(columns=['message', 'original', 'genre'])\n",
    "category_names = Y.columns\n",
    "Y.head()"
   ]
  },
  {
   "cell_type": "markdown",
   "metadata": {},
   "source": [
    "### 2. Write a tokenization function to process your text data"
   ]
  },
  {
   "cell_type": "code",
   "execution_count": 19,
   "metadata": {},
   "outputs": [],
   "source": [
    "def tokenize(text):    \n",
    "    # initiate lemmatizer\n",
    "    lemmatizer = WordNetLemmatizer()\n",
    "    \n",
    "    text = lemmatizer.lemmatize(text.lower())\n",
    "    return text"
   ]
  },
  {
   "cell_type": "markdown",
   "metadata": {},
   "source": [
    "### 3. Build a machine learning pipeline\n",
    "This machine pipeline should take in the `message` column as input and output classification results on the other 36 categories in the dataset. You may find the [MultiOutputClassifier](http://scikit-learn.org/stable/modules/generated/sklearn.multioutput.MultiOutputClassifier.html) helpful for predicting multiple target variables."
   ]
  },
  {
   "cell_type": "code",
   "execution_count": 20,
   "metadata": {},
   "outputs": [],
   "source": [
    "pipeline = Pipeline([\n",
    "    ('vect', CountVectorizer(tokenizer=tokenize)),\n",
    "    ('tfidf', TfidfTransformer()),\n",
    "    ('clf', MultiOutputClassifier(RandomForestClassifier())),\n",
    "])"
   ]
  },
  {
   "cell_type": "markdown",
   "metadata": {},
   "source": [
    "### 4. Train pipeline\n",
    "- Split data into train and test sets\n",
    "- Train pipeline"
   ]
  },
  {
   "cell_type": "code",
   "execution_count": 21,
   "metadata": {},
   "outputs": [
    {
     "data": {
      "text/plain": [
       "Pipeline(memory=None,\n",
       "     steps=[('vect', CountVectorizer(analyzer='word', binary=False, decode_error='strict',\n",
       "        dtype=<class 'numpy.int64'>, encoding='utf-8', input='content',\n",
       "        lowercase=True, max_df=1.0, max_features=None, min_df=1,\n",
       "        ngram_range=(1, 1), preprocessor=None, stop_words=None,\n",
       "        strip..._score=False, random_state=None, verbose=0,\n",
       "            warm_start=False),\n",
       "           n_jobs=None))])"
      ]
     },
     "execution_count": 21,
     "metadata": {},
     "output_type": "execute_result"
    }
   ],
   "source": [
    "X_train, X_test, y_train, y_test = train_test_split(X, Y)\n",
    "pipeline.fit(X_train, y_train)"
   ]
  },
  {
   "cell_type": "markdown",
   "metadata": {},
   "source": [
    "### 5. Test your model\n",
    "Report the f1 score, precision and recall for each output category of the dataset. You can do this by iterating through the columns and calling sklearn's `classification_report` on each."
   ]
  },
  {
   "cell_type": "code",
   "execution_count": 31,
   "metadata": {},
   "outputs": [],
   "source": [
    "y_pred1 = pipeline.predict(X_test)\n",
    "report = classification_report(y_test.as_matrix()[:,0], y_pred1[:,0], output_dict=True)"
   ]
  },
  {
   "cell_type": "code",
   "execution_count": 40,
   "metadata": {},
   "outputs": [
    {
     "data": {
      "text/plain": [
       "0.3176229508196721"
      ]
     },
     "execution_count": 40,
     "metadata": {},
     "output_type": "execute_result"
    }
   ],
   "source": [
    "report['0.0']['precision']"
   ]
  },
  {
   "cell_type": "code",
   "execution_count": 44,
   "metadata": {
    "scrolled": true
   },
   "outputs": [
    {
     "name": "stdout",
     "output_type": "stream",
     "text": [
      "Category related\n",
      "Label 0.0:\t Precision=0.318, Recall=0.202, F1-score=0.247\n",
      "Label 1.0:\t Precision=0.696, Recall=0.814, F1-score=0.75\n",
      "Label 2.0:\t Precision=0.0, Recall=0.0, F1-score=0.0\n",
      "Label micro avg:\t Precision=0.623, Recall=0.623, F1-score=0.623\n",
      "Label macro avg:\t Precision=0.338, Recall=0.339, F1-score=0.332\n",
      "Label weighted avg:\t Precision=0.576, Recall=0.623, F1-score=0.593\n",
      "Category request\n",
      "Label 0.0:\t Precision=0.687, Recall=0.918, F1-score=0.786\n",
      "Label 1.0:\t Precision=0.38, Recall=0.108, F1-score=0.168\n",
      "Label micro avg:\t Precision=0.66, Recall=0.66, F1-score=0.66\n",
      "Label macro avg:\t Precision=0.534, Recall=0.513, F1-score=0.477\n",
      "Label weighted avg:\t Precision=0.589, Recall=0.66, F1-score=0.589\n",
      "Category offer\n",
      "Label 0.0:\t Precision=0.997, Recall=1.0, F1-score=0.998\n",
      "Label 1.0:\t Precision=0.0, Recall=0.0, F1-score=0.0\n",
      "Label micro avg:\t Precision=0.997, Recall=0.997, F1-score=0.997\n",
      "Label macro avg:\t Precision=0.498, Recall=0.5, F1-score=0.499\n",
      "Label weighted avg:\t Precision=0.994, Recall=0.997, F1-score=0.995\n",
      "Category aid_related\n",
      "Label 0.0:\t Precision=0.609, Recall=0.818, F1-score=0.698\n",
      "Label 1.0:\t Precision=0.411, Recall=0.194, F1-score=0.264\n",
      "Label micro avg:\t Precision=0.571, Recall=0.571, F1-score=0.571\n",
      "Label macro avg:\t Precision=0.51, Recall=0.506, F1-score=0.481\n",
      "Label weighted avg:\t Precision=0.53, Recall=0.571, F1-score=0.526\n",
      "Category medical_help\n",
      "Label 0.0:\t Precision=0.944, Recall=0.999, F1-score=0.971\n",
      "Label 1.0:\t Precision=0.0, Recall=0.0, F1-score=0.0\n",
      "Label micro avg:\t Precision=0.943, Recall=0.943, F1-score=0.943\n",
      "Label macro avg:\t Precision=0.472, Recall=0.5, F1-score=0.485\n",
      "Label weighted avg:\t Precision=0.89, Recall=0.943, F1-score=0.916\n",
      "Category medical_products\n",
      "Label 0.0:\t Precision=0.959, Recall=0.999, F1-score=0.979\n",
      "Label 1.0:\t Precision=0.0, Recall=0.0, F1-score=0.0\n",
      "Label micro avg:\t Precision=0.958, Recall=0.958, F1-score=0.958\n",
      "Label macro avg:\t Precision=0.48, Recall=0.5, F1-score=0.489\n",
      "Label weighted avg:\t Precision=0.92, Recall=0.958, F1-score=0.939\n",
      "Category search_and_rescue\n",
      "Label 0.0:\t Precision=0.978, Recall=1.0, F1-score=0.989\n",
      "Label 1.0:\t Precision=0.0, Recall=0.0, F1-score=0.0\n",
      "Label micro avg:\t Precision=0.978, Recall=0.978, F1-score=0.978\n",
      "Label macro avg:\t Precision=0.489, Recall=0.5, F1-score=0.495\n",
      "Label weighted avg:\t Precision=0.957, Recall=0.978, F1-score=0.968\n",
      "Category security\n",
      "Label 0.0:\t Precision=0.989, Recall=1.0, F1-score=0.995\n",
      "Label 1.0:\t Precision=0.0, Recall=0.0, F1-score=0.0\n",
      "Label micro avg:\t Precision=0.989, Recall=0.989, F1-score=0.989\n",
      "Label macro avg:\t Precision=0.495, Recall=0.5, F1-score=0.497\n",
      "Label weighted avg:\t Precision=0.979, Recall=0.989, F1-score=0.984\n",
      "Category military\n",
      "Label 0.0:\t Precision=0.997, Recall=1.0, F1-score=0.998\n",
      "Label 1.0:\t Precision=0.0, Recall=0.0, F1-score=0.0\n",
      "Label micro avg:\t Precision=0.997, Recall=0.997, F1-score=0.997\n",
      "Label macro avg:\t Precision=0.498, Recall=0.5, F1-score=0.499\n",
      "Label weighted avg:\t Precision=0.994, Recall=0.997, F1-score=0.995\n",
      "Category child_alone\n",
      "Label 0.0:\t Precision=1.0, Recall=1.0, F1-score=1.0\n",
      "Label micro avg:\t Precision=1.0, Recall=1.0, F1-score=1.0\n",
      "Label macro avg:\t Precision=1.0, Recall=1.0, F1-score=1.0\n",
      "Label weighted avg:\t Precision=1.0, Recall=1.0, F1-score=1.0\n",
      "Category water\n",
      "Label 0.0:\t Precision=0.926, Recall=0.998, F1-score=0.961\n",
      "Label 1.0:\t Precision=0.167, Recall=0.00532, F1-score=0.0103\n",
      "Label micro avg:\t Precision=0.924, Recall=0.924, F1-score=0.924\n",
      "Label macro avg:\t Precision=0.546, Recall=0.502, F1-score=0.485\n",
      "Label weighted avg:\t Precision=0.87, Recall=0.924, F1-score=0.89\n",
      "Category food\n",
      "Label 0.0:\t Precision=0.849, Recall=0.994, F1-score=0.916\n",
      "Label 1.0:\t Precision=0.176, Recall=0.00783, F1-score=0.015\n",
      "Label micro avg:\t Precision=0.845, Recall=0.845, F1-score=0.845\n",
      "Label macro avg:\t Precision=0.513, Recall=0.501, F1-score=0.465\n",
      "Label weighted avg:\t Precision=0.748, Recall=0.845, F1-score=0.78\n",
      "Category shelter\n",
      "Label 0.0:\t Precision=0.905, Recall=0.999, F1-score=0.95\n",
      "Label 1.0:\t Precision=0.0, Recall=0.0, F1-score=0.0\n",
      "Label micro avg:\t Precision=0.905, Recall=0.905, F1-score=0.905\n",
      "Label macro avg:\t Precision=0.453, Recall=0.5, F1-score=0.475\n",
      "Label weighted avg:\t Precision=0.82, Recall=0.905, F1-score=0.86\n",
      "Category clothing\n",
      "Label 0.0:\t Precision=0.978, Recall=0.999, F1-score=0.988\n",
      "Label 1.0:\t Precision=0.0, Recall=0.0, F1-score=0.0\n",
      "Label micro avg:\t Precision=0.977, Recall=0.977, F1-score=0.977\n",
      "Label macro avg:\t Precision=0.489, Recall=0.5, F1-score=0.494\n",
      "Label weighted avg:\t Precision=0.956, Recall=0.977, F1-score=0.966\n",
      "Category money\n",
      "Label 0.0:\t Precision=0.979, Recall=0.999, F1-score=0.989\n",
      "Label 1.0:\t Precision=0.0, Recall=0.0, F1-score=0.0\n",
      "Label micro avg:\t Precision=0.978, Recall=0.978, F1-score=0.978\n",
      "Label macro avg:\t Precision=0.489, Recall=0.5, F1-score=0.494\n",
      "Label weighted avg:\t Precision=0.958, Recall=0.978, F1-score=0.968\n",
      "Category missing_people\n",
      "Label 0.0:\t Precision=0.99, Recall=1.0, F1-score=0.995\n",
      "Label 1.0:\t Precision=0.0, Recall=0.0, F1-score=0.0\n",
      "Label micro avg:\t Precision=0.99, Recall=0.99, F1-score=0.99\n",
      "Label macro avg:\t Precision=0.495, Recall=0.5, F1-score=0.497\n",
      "Label weighted avg:\t Precision=0.98, Recall=0.99, F1-score=0.985\n",
      "Category refugees\n",
      "Label 0.0:\t Precision=0.985, Recall=1.0, F1-score=0.992\n",
      "Label 1.0:\t Precision=0.0, Recall=0.0, F1-score=0.0\n",
      "Label micro avg:\t Precision=0.984, Recall=0.984, F1-score=0.984\n",
      "Label macro avg:\t Precision=0.492, Recall=0.5, F1-score=0.496\n",
      "Label weighted avg:\t Precision=0.97, Recall=0.984, F1-score=0.977\n",
      "Category death\n",
      "Label 0.0:\t Precision=0.971, Recall=1.0, F1-score=0.985\n",
      "Label 1.0:\t Precision=1.0, Recall=0.0133, F1-score=0.0263\n",
      "Label micro avg:\t Precision=0.971, Recall=0.971, F1-score=0.971\n",
      "Label macro avg:\t Precision=0.985, Recall=0.507, F1-score=0.506\n",
      "Label weighted avg:\t Precision=0.972, Recall=0.971, F1-score=0.957\n",
      "Category other_aid\n",
      "Label 0.0:\t Precision=0.847, Recall=0.992, F1-score=0.914\n",
      "Label 1.0:\t Precision=0.105, Recall=0.00515, F1-score=0.00983\n",
      "Label micro avg:\t Precision=0.841, Recall=0.841, F1-score=0.841\n",
      "Label macro avg:\t Precision=0.476, Recall=0.499, F1-score=0.462\n",
      "Label weighted avg:\t Precision=0.734, Recall=0.841, F1-score=0.776\n",
      "Category infrastructure_related\n",
      "Label 0.0:\t Precision=0.974, Recall=1.0, F1-score=0.987\n",
      "Label 1.0:\t Precision=0.0, Recall=0.0, F1-score=0.0\n",
      "Label micro avg:\t Precision=0.974, Recall=0.974, F1-score=0.974\n",
      "Label macro avg:\t Precision=0.487, Recall=0.5, F1-score=0.494\n",
      "Label weighted avg:\t Precision=0.949, Recall=0.974, F1-score=0.962\n",
      "Category transport\n",
      "Label 0.0:\t Precision=0.979, Recall=1.0, F1-score=0.989\n",
      "Label 1.0:\t Precision=0.0, Recall=0.0, F1-score=0.0\n",
      "Label micro avg:\t Precision=0.979, Recall=0.979, F1-score=0.979\n",
      "Label macro avg:\t Precision=0.489, Recall=0.5, F1-score=0.495\n",
      "Label weighted avg:\t Precision=0.958, Recall=0.979, F1-score=0.968\n",
      "Category buildings\n",
      "Label 0.0:\t Precision=0.966, Recall=1.0, F1-score=0.983\n",
      "Label 1.0:\t Precision=0.0, Recall=0.0, F1-score=0.0\n",
      "Label micro avg:\t Precision=0.966, Recall=0.966, F1-score=0.966\n",
      "Label macro avg:\t Precision=0.483, Recall=0.5, F1-score=0.491\n",
      "Label weighted avg:\t Precision=0.933, Recall=0.966, F1-score=0.949\n",
      "Category electricity\n",
      "Label 0.0:\t Precision=0.993, Recall=1.0, F1-score=0.996\n",
      "Label 1.0:\t Precision=0.0, Recall=0.0, F1-score=0.0\n",
      "Label micro avg:\t Precision=0.993, Recall=0.993, F1-score=0.993\n",
      "Label macro avg:\t Precision=0.496, Recall=0.5, F1-score=0.498\n",
      "Label weighted avg:\t Precision=0.985, Recall=0.993, F1-score=0.989\n",
      "Category tools\n",
      "Label 0.0:\t Precision=0.996, Recall=1.0, F1-score=0.998\n",
      "Label 1.0:\t Precision=0.0, Recall=0.0, F1-score=0.0\n",
      "Label micro avg:\t Precision=0.996, Recall=0.996, F1-score=0.996\n",
      "Label macro avg:\t Precision=0.498, Recall=0.5, F1-score=0.499\n",
      "Label weighted avg:\t Precision=0.993, Recall=0.996, F1-score=0.995\n",
      "Category hospitals\n",
      "Label 0.0:\t Precision=0.995, Recall=1.0, F1-score=0.998\n",
      "Label 1.0:\t Precision=0.0, Recall=0.0, F1-score=0.0\n",
      "Label micro avg:\t Precision=0.995, Recall=0.995, F1-score=0.995\n",
      "Label macro avg:\t Precision=0.498, Recall=0.5, F1-score=0.499\n",
      "Label weighted avg:\t Precision=0.991, Recall=0.995, F1-score=0.993\n",
      "Category shops\n",
      "Label 0.0:\t Precision=0.997, Recall=1.0, F1-score=0.998\n",
      "Label 1.0:\t Precision=0.0, Recall=0.0, F1-score=0.0\n",
      "Label micro avg:\t Precision=0.997, Recall=0.997, F1-score=0.997\n",
      "Label macro avg:\t Precision=0.498, Recall=0.5, F1-score=0.499\n",
      "Label weighted avg:\t Precision=0.994, Recall=0.997, F1-score=0.995\n",
      "Category aid_centers\n",
      "Label 0.0:\t Precision=0.991, Recall=1.0, F1-score=0.996\n",
      "Label 1.0:\t Precision=0.0, Recall=0.0, F1-score=0.0\n",
      "Label micro avg:\t Precision=0.991, Recall=0.991, F1-score=0.991\n",
      "Label macro avg:\t Precision=0.496, Recall=0.5, F1-score=0.498\n",
      "Label weighted avg:\t Precision=0.983, Recall=0.991, F1-score=0.987\n",
      "Category other_infrastructure\n",
      "Label 0.0:\t Precision=0.988, Recall=1.0, F1-score=0.994\n",
      "Label 1.0:\t Precision=0.0, Recall=0.0, F1-score=0.0\n",
      "Label micro avg:\t Precision=0.988, Recall=0.988, F1-score=0.988\n",
      "Label macro avg:\t Precision=0.494, Recall=0.5, F1-score=0.497\n",
      "Label weighted avg:\t Precision=0.976, Recall=0.988, F1-score=0.982\n",
      "Category weather_related\n",
      "Label 0.0:\t Precision=0.808, Recall=0.979, F1-score=0.885\n",
      "Label 1.0:\t Precision=0.254, Recall=0.0305, F1-score=0.0544\n",
      "Label micro avg:\t Precision=0.795, Recall=0.795, F1-score=0.795\n",
      "Label macro avg:\t Precision=0.531, Recall=0.504, F1-score=0.47\n",
      "Label weighted avg:\t Precision=0.7, Recall=0.795, F1-score=0.724\n",
      "Category floods\n",
      "Label 0.0:\t Precision=0.975, Recall=1.0, F1-score=0.987\n",
      "Label 1.0:\t Precision=1.0, Recall=0.0156, F1-score=0.0308\n",
      "Label micro avg:\t Precision=0.975, Recall=0.975, F1-score=0.975\n",
      "Label macro avg:\t Precision=0.988, Recall=0.508, F1-score=0.509\n",
      "Label weighted avg:\t Precision=0.976, Recall=0.975, F1-score=0.963\n",
      "Category storm\n",
      "Label 0.0:\t Precision=0.962, Recall=1.0, F1-score=0.981\n",
      "Label 1.0:\t Precision=0.0, Recall=0.0, F1-score=0.0\n",
      "Label micro avg:\t Precision=0.962, Recall=0.962, F1-score=0.962\n",
      "Label macro avg:\t Precision=0.481, Recall=0.5, F1-score=0.49\n",
      "Label weighted avg:\t Precision=0.925, Recall=0.962, F1-score=0.943\n",
      "Category fire\n",
      "Label 0.0:\t Precision=0.994, Recall=1.0, F1-score=0.997\n",
      "Label 1.0:\t Precision=0.0, Recall=0.0, F1-score=0.0\n",
      "Label micro avg:\t Precision=0.994, Recall=0.994, F1-score=0.994\n",
      "Label macro avg:\t Precision=0.497, Recall=0.5, F1-score=0.498\n",
      "Label weighted avg:\t Precision=0.987, Recall=0.994, F1-score=0.991\n",
      "Category earthquake\n",
      "Label 0.0:\t Precision=0.881, Recall=0.995, F1-score=0.935\n",
      "Label 1.0:\t Precision=0.353, Recall=0.0197, F1-score=0.0373\n",
      "Label micro avg:\t Precision=0.878, Recall=0.878, F1-score=0.878\n",
      "Label macro avg:\t Precision=0.617, Recall=0.507, F1-score=0.486\n",
      "Label weighted avg:\t Precision=0.818, Recall=0.878, F1-score=0.827\n",
      "Category cold\n",
      "Label 0.0:\t Precision=0.99, Recall=1.0, F1-score=0.995\n",
      "Label 1.0:\t Precision=0.0, Recall=0.0, F1-score=0.0\n",
      "Label micro avg:\t Precision=0.99, Recall=0.99, F1-score=0.99\n",
      "Label macro avg:\t Precision=0.495, Recall=0.5, F1-score=0.498\n",
      "Label weighted avg:\t Precision=0.98, Recall=0.99, F1-score=0.985\n",
      "Category other_weather\n",
      "Label 0.0:\t Precision=0.981, Recall=1.0, F1-score=0.991\n",
      "Label 1.0:\t Precision=1.0, Recall=0.0208, F1-score=0.0408\n",
      "Label micro avg:\t Precision=0.981, Recall=0.981, F1-score=0.981\n",
      "Label macro avg:\t Precision=0.991, Recall=0.51, F1-score=0.516\n",
      "Label weighted avg:\t Precision=0.982, Recall=0.981, F1-score=0.973\n",
      "Category direct_report\n",
      "Label 0.0:\t Precision=0.686, Recall=0.917, F1-score=0.785\n",
      "Label 1.0:\t Precision=0.345, Recall=0.0944, F1-score=0.148\n",
      "Label micro avg:\t Precision=0.656, Recall=0.656, F1-score=0.656\n",
      "Label macro avg:\t Precision=0.516, Recall=0.506, F1-score=0.466\n",
      "Label weighted avg:\t Precision=0.578, Recall=0.656, F1-score=0.583\n"
     ]
    }
   ],
   "source": [
    "y_pred = pipeline.predict(X_test)\n",
    "for idx in range(y_pred.shape[1]):\n",
    "    report = classification_report(y_test.as_matrix()[:,idx], y_pred[:,idx], output_dict=True)\n",
    "    print('Category', category_names[idx])\n",
    "    for key in report.keys():\n",
    "        print('Label {}:\\t Precision={:.3}, Recall={:.3}, F1-score={:.3}'.format(key, report[key]['precision'], report[key]['recall'], report[key]['f1-score']))\n"
   ]
  },
  {
   "cell_type": "markdown",
   "metadata": {},
   "source": [
    "### 6. Improve your model\n",
    "Use grid search to find better parameters. "
   ]
  },
  {
   "cell_type": "code",
   "execution_count": 46,
   "metadata": {},
   "outputs": [],
   "source": [
    "parameters = {\n",
    "    'clf__estimator__n_estimators': [2,5,10,20,50],\n",
    "    'clf__estimator__max_depth': [5,10,20,50],\n",
    "    'clf__estimator__min_samples_split': [2,5,10,20]    \n",
    "}\n",
    "\n",
    "cv = GridSearchCV(pipeline, param_grid=parameters)"
   ]
  },
  {
   "cell_type": "markdown",
   "metadata": {},
   "source": [
    "### 7. Test your model\n",
    "Show the accuracy, precision, and recall of the tuned model.  \n",
    "\n",
    "Since this project focuses on code quality, process, and  pipelines, there is no minimum performance metric needed to pass. However, make sure to fine tune your models for accuracy, precision and recall to make your project stand out - especially for your portfolio!"
   ]
  },
  {
   "cell_type": "code",
   "execution_count": null,
   "metadata": {
    "scrolled": false
   },
   "outputs": [],
   "source": [
    "cv.fit(X_train, y_train)"
   ]
  },
  {
   "cell_type": "code",
   "execution_count": 35,
   "metadata": {
    "scrolled": true
   },
   "outputs": [
    {
     "data": {
      "text/plain": [
       "{'memory': None,\n",
       " 'steps': [('vect',\n",
       "   CountVectorizer(analyzer='word', binary=False, decode_error='strict',\n",
       "           dtype=<class 'numpy.int64'>, encoding='utf-8', input='content',\n",
       "           lowercase=True, max_df=1.0, max_features=None, min_df=1,\n",
       "           ngram_range=(1, 1), preprocessor=None, stop_words=None,\n",
       "           strip_accents=None, token_pattern='(?u)\\\\b\\\\w\\\\w+\\\\b',\n",
       "           tokenizer=<function tokenize at 0x00000202A38EB510>,\n",
       "           vocabulary=None)),\n",
       "  ('tfidf',\n",
       "   TfidfTransformer(norm='l2', smooth_idf=True, sublinear_tf=False, use_idf=True)),\n",
       "  ('clf',\n",
       "   MultiOutputClassifier(estimator=RandomForestClassifier(bootstrap=True, class_weight=None, criterion='gini',\n",
       "               max_depth=None, max_features='auto', max_leaf_nodes=None,\n",
       "               min_impurity_decrease=0.0, min_impurity_split=None,\n",
       "               min_samples_leaf=1, min_samples_split=2,\n",
       "               min_weight_fraction_leaf=0.0, n_estimators='warn', n_jobs=None,\n",
       "               oob_score=False, random_state=None, verbose=0,\n",
       "               warm_start=False),\n",
       "              n_jobs=None))],\n",
       " 'vect': CountVectorizer(analyzer='word', binary=False, decode_error='strict',\n",
       "         dtype=<class 'numpy.int64'>, encoding='utf-8', input='content',\n",
       "         lowercase=True, max_df=1.0, max_features=None, min_df=1,\n",
       "         ngram_range=(1, 1), preprocessor=None, stop_words=None,\n",
       "         strip_accents=None, token_pattern='(?u)\\\\b\\\\w\\\\w+\\\\b',\n",
       "         tokenizer=<function tokenize at 0x00000202A38EB510>,\n",
       "         vocabulary=None),\n",
       " 'tfidf': TfidfTransformer(norm='l2', smooth_idf=True, sublinear_tf=False, use_idf=True),\n",
       " 'clf': MultiOutputClassifier(estimator=RandomForestClassifier(bootstrap=True, class_weight=None, criterion='gini',\n",
       "             max_depth=None, max_features='auto', max_leaf_nodes=None,\n",
       "             min_impurity_decrease=0.0, min_impurity_split=None,\n",
       "             min_samples_leaf=1, min_samples_split=2,\n",
       "             min_weight_fraction_leaf=0.0, n_estimators='warn', n_jobs=None,\n",
       "             oob_score=False, random_state=None, verbose=0,\n",
       "             warm_start=False),\n",
       "            n_jobs=None),\n",
       " 'vect__analyzer': 'word',\n",
       " 'vect__binary': False,\n",
       " 'vect__decode_error': 'strict',\n",
       " 'vect__dtype': numpy.int64,\n",
       " 'vect__encoding': 'utf-8',\n",
       " 'vect__input': 'content',\n",
       " 'vect__lowercase': True,\n",
       " 'vect__max_df': 1.0,\n",
       " 'vect__max_features': None,\n",
       " 'vect__min_df': 1,\n",
       " 'vect__ngram_range': (1, 1),\n",
       " 'vect__preprocessor': None,\n",
       " 'vect__stop_words': None,\n",
       " 'vect__strip_accents': None,\n",
       " 'vect__token_pattern': '(?u)\\\\b\\\\w\\\\w+\\\\b',\n",
       " 'vect__tokenizer': <function __main__.tokenize(text)>,\n",
       " 'vect__vocabulary': None,\n",
       " 'tfidf__norm': 'l2',\n",
       " 'tfidf__smooth_idf': True,\n",
       " 'tfidf__sublinear_tf': False,\n",
       " 'tfidf__use_idf': True,\n",
       " 'clf__estimator__bootstrap': True,\n",
       " 'clf__estimator__class_weight': None,\n",
       " 'clf__estimator__criterion': 'gini',\n",
       " 'clf__estimator__max_depth': None,\n",
       " 'clf__estimator__max_features': 'auto',\n",
       " 'clf__estimator__max_leaf_nodes': None,\n",
       " 'clf__estimator__min_impurity_decrease': 0.0,\n",
       " 'clf__estimator__min_impurity_split': None,\n",
       " 'clf__estimator__min_samples_leaf': 1,\n",
       " 'clf__estimator__min_samples_split': 2,\n",
       " 'clf__estimator__min_weight_fraction_leaf': 0.0,\n",
       " 'clf__estimator__n_estimators': 'warn',\n",
       " 'clf__estimator__n_jobs': None,\n",
       " 'clf__estimator__oob_score': False,\n",
       " 'clf__estimator__random_state': None,\n",
       " 'clf__estimator__verbose': 0,\n",
       " 'clf__estimator__warm_start': False,\n",
       " 'clf__estimator': RandomForestClassifier(bootstrap=True, class_weight=None, criterion='gini',\n",
       "             max_depth=None, max_features='auto', max_leaf_nodes=None,\n",
       "             min_impurity_decrease=0.0, min_impurity_split=None,\n",
       "             min_samples_leaf=1, min_samples_split=2,\n",
       "             min_weight_fraction_leaf=0.0, n_estimators='warn', n_jobs=None,\n",
       "             oob_score=False, random_state=None, verbose=0,\n",
       "             warm_start=False),\n",
       " 'clf__n_jobs': None}"
      ]
     },
     "execution_count": 35,
     "metadata": {},
     "output_type": "execute_result"
    }
   ],
   "source": [
    "cv.get_params()"
   ]
  },
  {
   "cell_type": "code",
   "execution_count": 36,
   "metadata": {},
   "outputs": [],
   "source": [
    "y_pred = cv.predict(X_test)"
   ]
  },
  {
   "cell_type": "code",
   "execution_count": 38,
   "metadata": {},
   "outputs": [
    {
     "data": {
      "text/plain": [
       "(2539, 36)"
      ]
     },
     "execution_count": 38,
     "metadata": {},
     "output_type": "execute_result"
    }
   ],
   "source": [
    "y_pred.shape"
   ]
  },
  {
   "cell_type": "markdown",
   "metadata": {},
   "source": [
    "### 8. Try improving your model further. Here are a few ideas:\n",
    "* try other machine learning algorithms\n",
    "* add other features besides the TF-IDF"
   ]
  },
  {
   "cell_type": "code",
   "execution_count": 40,
   "metadata": {},
   "outputs": [],
   "source": [
    "pipeline_ann = Pipeline([\n",
    "    ('vect', CountVectorizer(tokenizer=tokenize)),\n",
    "    ('tfidf', TfidfTransformer()),\n",
    "    ('clf', MultiOutputClassifier(MLPClassifier())),\n",
    "])"
   ]
  },
  {
   "cell_type": "code",
   "execution_count": 41,
   "metadata": {},
   "outputs": [],
   "source": [
    "parameters_ann = {\n",
    "    'clf__estimator__hidden_layer_sizes': [(5,),(5,5), (5,7,3)],\n",
    "    'clf__estimator__activation': ['tanh', 'relu'] \n",
    "}"
   ]
  },
  {
   "cell_type": "code",
   "execution_count": 42,
   "metadata": {},
   "outputs": [],
   "source": [
    "cv_ann = GridSearchCV(pipeline_ann, param_grid=parameters_ann)"
   ]
  },
  {
   "cell_type": "code",
   "execution_count": 43,
   "metadata": {},
   "outputs": [
    {
     "data": {
      "text/plain": [
       "GridSearchCV(cv='warn', error_score='raise-deprecating',\n",
       "       estimator=Pipeline(memory=None,\n",
       "     steps=[('vect', CountVectorizer(analyzer='word', binary=False, decode_error='strict',\n",
       "        dtype=<class 'numpy.int64'>, encoding='utf-8', input='content',\n",
       "        lowercase=True, max_df=1.0, max_features=None, min_df=1,\n",
       "        ngram_range=(1, 1), preprocessor=None, stop_words=None,\n",
       "        strip...=0.0001,\n",
       "       validation_fraction=0.1, verbose=False, warm_start=False),\n",
       "           n_jobs=None))]),\n",
       "       fit_params=None, iid='warn', n_jobs=None,\n",
       "       param_grid={'clf__estimator__hidden_layer_sizes': [(5,), (5, 5), (5, 7, 3)], 'clf__estimator__activation': ['tanh', 'relu']},\n",
       "       pre_dispatch='2*n_jobs', refit=True, return_train_score='warn',\n",
       "       scoring=None, verbose=0)"
      ]
     },
     "execution_count": 43,
     "metadata": {},
     "output_type": "execute_result"
    }
   ],
   "source": [
    "cv_ann.fit(X_train, y_train)"
   ]
  },
  {
   "cell_type": "markdown",
   "metadata": {},
   "source": [
    "### 9. Export your model as a pickle file"
   ]
  },
  {
   "cell_type": "code",
   "execution_count": 45,
   "metadata": {},
   "outputs": [
    {
     "ename": "NameError",
     "evalue": "name 'cv' is not defined",
     "output_type": "error",
     "traceback": [
      "\u001b[1;31m---------------------------------------------------------------------------\u001b[0m",
      "\u001b[1;31mNameError\u001b[0m                                 Traceback (most recent call last)",
      "\u001b[1;32m<ipython-input-45-e53fecef37f1>\u001b[0m in \u001b[0;36m<module>\u001b[1;34m\u001b[0m\n\u001b[0;32m      1\u001b[0m \u001b[1;32mwith\u001b[0m \u001b[0mopen\u001b[0m\u001b[1;33m(\u001b[0m\u001b[1;34m'randomforest.pkl'\u001b[0m\u001b[1;33m,\u001b[0m \u001b[1;34m'w'\u001b[0m\u001b[1;33m)\u001b[0m \u001b[1;32mas\u001b[0m \u001b[0mfile\u001b[0m\u001b[1;33m:\u001b[0m\u001b[1;33m\u001b[0m\u001b[1;33m\u001b[0m\u001b[0m\n\u001b[1;32m----> 2\u001b[1;33m     \u001b[0mpickle\u001b[0m\u001b[1;33m.\u001b[0m\u001b[0mdump\u001b[0m\u001b[1;33m(\u001b[0m\u001b[0mcv\u001b[0m\u001b[1;33m,\u001b[0m \u001b[0mfile\u001b[0m\u001b[1;33m)\u001b[0m\u001b[1;33m\u001b[0m\u001b[1;33m\u001b[0m\u001b[0m\n\u001b[0m\u001b[0;32m      3\u001b[0m \u001b[1;31m# with open('ann.pkl', 'w') as file:\u001b[0m\u001b[1;33m\u001b[0m\u001b[1;33m\u001b[0m\u001b[1;33m\u001b[0m\u001b[0m\n\u001b[0;32m      4\u001b[0m \u001b[1;31m#     pickle.dump(cv_ann, file)\u001b[0m\u001b[1;33m\u001b[0m\u001b[1;33m\u001b[0m\u001b[1;33m\u001b[0m\u001b[0m\n",
      "\u001b[1;31mNameError\u001b[0m: name 'cv' is not defined"
     ]
    }
   ],
   "source": [
    "with open('randomforest.pkl', 'w') as file:\n",
    "    pickle.dump(cv, file)\n",
    "# with open('ann.pkl', 'w') as file:\n",
    "#     pickle.dump(cv_ann, file)\n"
   ]
  },
  {
   "cell_type": "markdown",
   "metadata": {},
   "source": [
    "### 10. Use this notebook to complete `train.py`\n",
    "Use the template file attached in the Resources folder to write a script that runs the steps above to create a database and export a model based on a new dataset specified by the user."
   ]
  },
  {
   "cell_type": "code",
   "execution_count": null,
   "metadata": {},
   "outputs": [],
   "source": []
  }
 ],
 "metadata": {
  "kernelspec": {
   "display_name": "Python 3",
   "language": "python",
   "name": "python3"
  },
  "language_info": {
   "codemirror_mode": {
    "name": "ipython",
    "version": 3
   },
   "file_extension": ".py",
   "mimetype": "text/x-python",
   "name": "python",
   "nbconvert_exporter": "python",
   "pygments_lexer": "ipython3",
   "version": "3.6.8"
  }
 },
 "nbformat": 4,
 "nbformat_minor": 2
}
